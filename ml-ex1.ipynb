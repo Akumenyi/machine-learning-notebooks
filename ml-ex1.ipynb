{
 "cells": [
  {
   "cell_type": "markdown",
   "metadata": {},
   "source": [
    "## Linear regression"
   ]
  },
  {
   "cell_type": "markdown",
   "metadata": {},
   "source": [
    "### Univariate"
   ]
  },
  {
   "cell_type": "code",
   "execution_count": 28,
   "metadata": {
    "collapsed": true
   },
   "outputs": [],
   "source": [
    "import numpy as np\n",
    "import matplotlib.pyplot as plt\n",
    "import matplotlib.ticker as ticker\n",
    "\n",
    "from mpl_toolkits.mplot3d import Axes3D\n",
    "from sklearn import preprocessing, linear_model\n",
    "\n",
    "%matplotlib inline"
   ]
  },
  {
   "cell_type": "code",
   "execution_count": 29,
   "metadata": {
    "collapsed": true
   },
   "outputs": [],
   "source": [
    "# load population (x) and profit (y) data\n",
    "data = np.loadtxt('data/ml-ex1/ex1data1.txt', delimiter=',')"
   ]
  },
  {
   "cell_type": "code",
   "execution_count": 30,
   "metadata": {
    "collapsed": true
   },
   "outputs": [],
   "source": [
    "# Separate feature (x) from target (y)\n",
    "x, y = np.hsplit(data, 2)"
   ]
  },
  {
   "cell_type": "code",
   "execution_count": 31,
   "metadata": {
    "collapsed": true
   },
   "outputs": [],
   "source": [
    "# Number of samples\n",
    "m = y.size"
   ]
  },
  {
   "cell_type": "code",
   "execution_count": 32,
   "metadata": {},
   "outputs": [
    {
     "data": {
      "text/plain": [
       "LinearRegression(copy_X=True, fit_intercept=True, n_jobs=1, normalize=False)"
      ]
     },
     "execution_count": 32,
     "metadata": {},
     "output_type": "execute_result"
    }
   ],
   "source": [
    "# Run linear regression\n",
    "model = linear_model.LinearRegression()\n",
    "model.fit(x, y)"
   ]
  },
  {
   "cell_type": "code",
   "execution_count": 33,
   "metadata": {},
   "outputs": [
    {
     "data": {
      "text/plain": [
       "(array([-3.89578088]), array([ 1.19303364]))"
      ]
     },
     "execution_count": 33,
     "metadata": {},
     "output_type": "execute_result"
    }
   ],
   "source": [
    "# Obtain coefficients theta0 and theta1 from model\n",
    "theta0, theta1 = model.intercept_, model.coef_[0]\n",
    "theta0, theta1"
   ]
  },
  {
   "cell_type": "code",
   "execution_count": 34,
   "metadata": {
    "collapsed": true
   },
   "outputs": [],
   "source": [
    "# Add coefficients to a vector (needed later for computing cost)\n",
    "Theta = np.vstack([model.intercept_, model.coef_.T])"
   ]
  },
  {
   "cell_type": "code",
   "execution_count": 35,
   "metadata": {},
   "outputs": [
    {
     "data": {
      "text/plain": [
       "<matplotlib.text.Text at 0x111c89a20>"
      ]
     },
     "execution_count": 35,
     "metadata": {},
     "output_type": "execute_result"
    },
    {
     "data": {
      "image/png": "[encoded data removed]",
      "text/plain": [
       "<matplotlib.figure.Figure at 0x111946be0>"
      ]
     },
     "metadata": {},
     "output_type": "display_data"
    }
   ],
   "source": [
    "plt.plot(x, y, 'bx')\n",
    "plt.plot(x, model.predict(x), 'r-')\n",
    "plt.xlabel('Population')\n",
    "plt.ylabel('Profit')"
   ]
  },
  {
   "cell_type": "code",
   "execution_count": 36,
   "metadata": {},
   "outputs": [
    {
     "data": {
      "text/plain": [
       "8.9539427519503558"
      ]
     },
     "execution_count": 36,
     "metadata": {},
     "output_type": "execute_result"
    }
   ],
   "source": [
    "# Mean squared error (should use test data)\n",
    "np.mean((model.predict(x) - y) ** 2)"
   ]
  },
  {
   "cell_type": "code",
   "execution_count": 37,
   "metadata": {},
   "outputs": [
    {
     "data": {
      "text/plain": [
       "0.70203155378413973"
      ]
     },
     "execution_count": 37,
     "metadata": {},
     "output_type": "execute_result"
    }
   ],
   "source": [
    "# Variance score (should use test data)\n",
    "model.score(x, y)"
   ]
  },
  {
   "cell_type": "code",
   "execution_count": 38,
   "metadata": {},
   "outputs": [
    {
     "data": {
      "text/plain": [
       "array([[  2798.36876352],\n",
       "       [ 44554.54631015]])"
      ]
     },
     "execution_count": 38,
     "metadata": {},
     "output_type": "execute_result"
    }
   ],
   "source": [
    "# Predict profit for populations of 35.000 and 70.000 \n",
    "model.predict(np.array([[3.5], [7.0]])) * 10000"
   ]
  },
  {
   "cell_type": "markdown",
   "metadata": {},
   "source": [
    "See also [this Stackoverflow entry](https://stackoverflow.com/questions/34170618/normal-equation-and-numpy-least-squares-solve-methods-difference-in-regress) for the following calculations:"
   ]
  },
  {
   "cell_type": "code",
   "execution_count": 39,
   "metadata": {
    "collapsed": true
   },
   "outputs": [],
   "source": [
    "# Create design matrix X\n",
    "X = np.c_[np.ones(m), x]"
   ]
  },
  {
   "cell_type": "code",
   "execution_count": 40,
   "metadata": {},
   "outputs": [
    {
     "data": {
      "text/plain": [
       "array([[-3.89578088],\n",
       "       [ 1.19303364]])"
      ]
     },
     "execution_count": 40,
     "metadata": {},
     "output_type": "execute_result"
    }
   ],
   "source": [
    "# Minimize the Euclidean 2-norm with np.linalg.lstsq. \n",
    "# This is what linear_model.LinearRegression uses under the hood.\n",
    "Theta = np.linalg.lstsq(X, y)[0]\n",
    "Theta"
   ]
  },
  {
   "cell_type": "code",
   "execution_count": 41,
   "metadata": {},
   "outputs": [
    {
     "data": {
      "text/plain": [
       "array([[-3.89578088],\n",
       "       [ 1.19303364]])"
      ]
     },
     "execution_count": 41,
     "metadata": {},
     "output_type": "execute_result"
    }
   ],
   "source": [
    "# Solve analytically (without explicit inverse)\n",
    "Theta = np.linalg.solve(X.T.dot(X), X.T.dot(y))\n",
    "Theta"
   ]
  },
  {
   "cell_type": "code",
   "execution_count": 42,
   "metadata": {},
   "outputs": [
    {
     "data": {
      "text/plain": [
       "array([[-3.89578088],\n",
       "       [ 1.19303364]])"
      ]
     },
     "execution_count": 42,
     "metadata": {},
     "output_type": "execute_result"
    }
   ],
   "source": [
    "# Solve normal equation (explicit inverse)\n",
    "Theta = np.linalg.inv(X.T.dot(X)).dot(X.T).dot(y)\n",
    "Theta"
   ]
  },
  {
   "cell_type": "code",
   "execution_count": 43,
   "metadata": {},
   "outputs": [
    {
     "data": {
      "text/plain": [
       "array([[-3.89578088],\n",
       "       [ 1.19303364]])"
      ]
     },
     "execution_count": 43,
     "metadata": {},
     "output_type": "execute_result"
    }
   ],
   "source": [
    "# Solve normal equation (explicit pseudo-inverse)\n",
    "Theta = np.linalg.pinv(X.T.dot(X)).dot(X.T).dot(y)\n",
    "Theta"
   ]
  },
  {
   "cell_type": "code",
   "execution_count": 44,
   "metadata": {
    "collapsed": true
   },
   "outputs": [],
   "source": [
    "# Cost function\n",
    "def cost(X, y, Theta):\n",
    "    M = X.dot(Theta) - y\n",
    "    return 1 / y.size * (M.T.dot(M))"
   ]
  },
  {
   "cell_type": "code",
   "execution_count": 45,
   "metadata": {},
   "outputs": [
    {
     "data": {
      "text/plain": [
       "array([[ 8.95394275]])"
      ]
     },
     "execution_count": 45,
     "metadata": {},
     "output_type": "execute_result"
    }
   ],
   "source": [
    "# Compute cost of solution\n",
    "cost(X, y, Theta)"
   ]
  },
  {
   "cell_type": "markdown",
   "metadata": {},
   "source": [
    "### Multivariate"
   ]
  },
  {
   "cell_type": "code",
   "execution_count": 46,
   "metadata": {
    "collapsed": true
   },
   "outputs": [],
   "source": [
    "# Columns \n",
    "# - x1: house size in feet**2, \n",
    "# - x2: number of bedrooms, \n",
    "# - y:  house price\n",
    "data = np.loadtxt('data/ml-ex1/ex1data2.txt', delimiter=',')"
   ]
  },
  {
   "cell_type": "code",
   "execution_count": 47,
   "metadata": {
    "collapsed": true
   },
   "outputs": [],
   "source": [
    "# separate features (x1, x2) from target (y)\n",
    "x, y = np.hsplit(data, np.array([2]))"
   ]
  },
  {
   "cell_type": "code",
   "execution_count": 48,
   "metadata": {
    "collapsed": true
   },
   "outputs": [],
   "source": [
    "# Number of samples\n",
    "m = y.size"
   ]
  },
  {
   "cell_type": "code",
   "execution_count": 49,
   "metadata": {
    "collapsed": true
   },
   "outputs": [],
   "source": [
    "# Scale features to standard deviation after substracting mean\n",
    "scaler = preprocessing.StandardScaler()\n",
    "x_scaled = scaler.fit_transform(x)"
   ]
  },
  {
   "cell_type": "code",
   "execution_count": 50,
   "metadata": {},
   "outputs": [
    {
     "data": {
      "text/plain": [
       "LinearRegression(copy_X=True, fit_intercept=True, n_jobs=1, normalize=False)"
      ]
     },
     "execution_count": 50,
     "metadata": {},
     "output_type": "execute_result"
    }
   ],
   "source": [
    "# Run linear regression\n",
    "model = linear_model.LinearRegression()\n",
    "model.fit(x_scaled, y)"
   ]
  },
  {
   "cell_type": "code",
   "execution_count": 51,
   "metadata": {},
   "outputs": [
    {
     "data": {
      "text/plain": [
       "array([[ 340412.65957447],\n",
       "       [ 109447.79646964],\n",
       "       [  -6578.35485416]])"
      ]
     },
     "execution_count": 51,
     "metadata": {},
     "output_type": "execute_result"
    }
   ],
   "source": [
    "# Obtain coefficients Theta from model\n",
    "Theta = np.vstack([model.intercept_, model.coef_.T])\n",
    "Theta"
   ]
  },
  {
   "cell_type": "code",
   "execution_count": 52,
   "metadata": {},
   "outputs": [
    {
     "data": {
      "image/png": "[encoded data removed]",
      "text/plain": [
       "<matplotlib.figure.Figure at 0x111dcec50>"
      ]
     },
     "metadata": {},
     "output_type": "display_data"
    }
   ],
   "source": [
    "# Predict target y from non-scaled features x1 and x2\n",
    "#def predict(x1, x2):\n",
    "#    scaled = scaler.transform([[x1, x2]])\n",
    "#    return model.predict(scaled)[0, 0]\n",
    "\n",
    "# Vectorize predict\n",
    "#predict_v = np.vectorize(predict)\n",
    "\n",
    "# Create a meshgrid for feature min/max values and predict targets\n",
    "grid_range = np.vstack([x.min(0), x.max(0)])\n",
    "grid = np.meshgrid(grid_range[:,0], grid_range[:,1])\n",
    "\n",
    "x_grid = np.c_[grid[0].ravel(), grid[1].ravel()]\n",
    "x_grid_scaled = scaler.transform(x_grid)\n",
    "y_grid = model.predict(x_grid_scaled).reshape(grid[0].shape)\n",
    "\n",
    "# Create new figure and double height\n",
    "fig_x_rc, fig_y_rc = plt.rcParams['figure.figsize']\n",
    "fig = plt.figure(2, figsize=[fig_x_rc * 1.5, fig_y_rc * 2])\n",
    "\n",
    "\n",
    "def plot(fignum, angle):\n",
    "    sp = fig.add_subplot(2, 1, fignum, projection='3d')\n",
    "    sp.view_init(angle, 90)\n",
    "    #\n",
    "    #sp.set_xlabel('Square feet')\n",
    "    #sp.set_ylabel('Bedrooms')\n",
    "    #sp.set_zlabel('Price')\n",
    "    #\n",
    "    # Customize tick locators\n",
    "    sp.yaxis.set_major_locator(ticker.MultipleLocator(1.00))\n",
    "    sp.zaxis.set_major_locator(ticker.MultipleLocator(200000))\n",
    "    # Plot samples\n",
    "    sp.scatter(x[:,0], x[:,1], y)\n",
    "    # Plot regression area\n",
    "    sp.plot_surface(grid[0], grid[1], y_grid, color='y', alpha=0.2)\n",
    "    \n",
    "plot(1, 20)\n",
    "plot(2, 75)"
   ]
  },
  {
   "cell_type": "code",
   "execution_count": 53,
   "metadata": {},
   "outputs": [
    {
     "data": {
      "text/plain": [
       "4086560101.2056565"
      ]
     },
     "execution_count": 53,
     "metadata": {},
     "output_type": "execute_result"
    }
   ],
   "source": [
    "# Mean squared error (should use test data)\n",
    "np.mean((model.predict(x_scaled) - y) ** 2)"
   ]
  },
  {
   "cell_type": "code",
   "execution_count": 54,
   "metadata": {},
   "outputs": [
    {
     "data": {
      "text/plain": [
       "0.73294501802891432"
      ]
     },
     "execution_count": 54,
     "metadata": {},
     "output_type": "execute_result"
    }
   ],
   "source": [
    "# Variance score (should use test data)\n",
    "model.score(x_scaled, y)"
   ]
  },
  {
   "cell_type": "code",
   "execution_count": 55,
   "metadata": {
    "collapsed": true
   },
   "outputs": [],
   "source": [
    "# Create design matrix X\n",
    "X_scaled = np.c_[np.ones(m), x_scaled]"
   ]
  },
  {
   "cell_type": "code",
   "execution_count": 56,
   "metadata": {},
   "outputs": [
    {
     "data": {
      "text/plain": [
       "array([[ 340412.65957447],\n",
       "       [ 109447.79646964],\n",
       "       [  -6578.35485416]])"
      ]
     },
     "execution_count": 56,
     "metadata": {},
     "output_type": "execute_result"
    }
   ],
   "source": [
    "# Solve analytically (without explicit inverse)\n",
    "Theta = np.linalg.solve(X_scaled.T.dot(X_scaled), X_scaled.T.dot(y))\n",
    "Theta"
   ]
  },
  {
   "cell_type": "code",
   "execution_count": 57,
   "metadata": {},
   "outputs": [
    {
     "data": {
      "text/plain": [
       "array([[ 340412.65957447],\n",
       "       [ 109447.79646964],\n",
       "       [  -6578.35485416]])"
      ]
     },
     "execution_count": 57,
     "metadata": {},
     "output_type": "execute_result"
    }
   ],
   "source": [
    "# Solve normal equation (explicit pseudo-inverse)\n",
    "Theta = np.linalg.pinv(X_scaled.T.dot(X_scaled)).dot(X_scaled.T).dot(y)\n",
    "Theta"
   ]
  },
  {
   "cell_type": "code",
   "execution_count": 58,
   "metadata": {},
   "outputs": [
    {
     "data": {
      "text/plain": [
       "array([[  4.08656010e+09]])"
      ]
     },
     "execution_count": 58,
     "metadata": {},
     "output_type": "execute_result"
    }
   ],
   "source": [
    "# Compute cost of solution\n",
    "cost(X_scaled, y, Theta)"
   ]
  }
 ],
 "metadata": {
  "kernelspec": {
   "display_name": "Python 3",
   "language": "python",
   "name": "python3"
  },
  "language_info": {
   "codemirror_mode": {
    "name": "ipython",
    "version": 3.0
   },
   "file_extension": ".py",
   "mimetype": "text/x-python",
   "name": "python",
   "nbconvert_exporter": "python",
   "pygments_lexer": "ipython3",
   "version": "3.6.0"
  }
 },
 "nbformat": 4,
 "nbformat_minor": 0
}