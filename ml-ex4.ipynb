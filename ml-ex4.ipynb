{
 "cells": [
  {
   "cell_type": "markdown",
   "metadata": {},
   "source": [
    "## Neural networks"
   ]
  },
  {
   "cell_type": "code",
   "execution_count": 1,
   "metadata": {
    "collapsed": true
   },
   "outputs": [],
   "source": [
    "import scipy.io as sio\n",
    "import pandas as pd\n",
    "import matplotlib.pyplot as plt\n",
    "\n",
    "from sklearn.neural_network import MLPClassifier\n",
    "from sklearn.model_selection import StratifiedShuffleSplit, GridSearchCV\n",
    "\n",
    "%matplotlib inline"
   ]
  },
  {
   "cell_type": "code",
   "execution_count": 2,
   "metadata": {
    "collapsed": true
   },
   "outputs": [],
   "source": [
    "digits = sio.loadmat('data/ml-ex4/ex4data1.mat')"
   ]
  },
  {
   "cell_type": "code",
   "execution_count": 3,
   "metadata": {
    "collapsed": true
   },
   "outputs": [],
   "source": [
    "X = digits['X']\n",
    "y = digits['y'].ravel()"
   ]
  },
  {
   "cell_type": "code",
   "execution_count": 4,
   "metadata": {},
   "outputs": [
    {
     "data": {
      "text/plain": [
       "MLPClassifier(activation='logistic', alpha=0.0001, batch_size='auto',\n",
       "       beta_1=0.9, beta_2=0.999, early_stopping=False, epsilon=1e-08,\n",
       "       hidden_layer_sizes=(25,), learning_rate='constant',\n",
       "       learning_rate_init=0.001, max_iter=200, momentum=0.9,\n",
       "       nesterovs_momentum=True, power_t=0.5, random_state=None,\n",
       "       shuffle=True, solver='lbfgs', tol=0.0001, validation_fraction=0.1,\n",
       "       verbose=False, warm_start=False)"
      ]
     },
     "execution_count": 4,
     "metadata": {},
     "output_type": "execute_result"
    }
   ],
   "source": [
    "clf = MLPClassifier((25,), activation='logistic', solver='lbfgs')\n",
    "clf.fit(X, y)"
   ]
  },
  {
   "cell_type": "code",
   "execution_count": 5,
   "metadata": {},
   "outputs": [
    {
     "data": {
      "text/plain": [
       "1.0"
      ]
     },
     "execution_count": 5,
     "metadata": {},
     "output_type": "execute_result"
    }
   ],
   "source": [
    "clf.score(X, y)"
   ]
  },
  {
   "cell_type": "code",
   "execution_count": 6,
   "metadata": {},
   "outputs": [
    {
     "data": {
      "text/plain": [
       "GridSearchCV(cv=None, error_score='raise',\n",
       "       estimator=MLPClassifier(activation='logistic', alpha=0.0001, batch_size='auto',\n",
       "       beta_1=0.9, beta_2=0.999, early_stopping=False, epsilon=1e-08,\n",
       "       hidden_layer_sizes=(25,), learning_rate='constant',\n",
       "       learning_rate_init=0.001, max_iter=200, momentum=0.9,\n",
       "       nesterovs_momentum=True, power_t=0.5, random_state=None,\n",
       "       shuffle=True, solver='lbfgs', tol=0.0001, validation_fraction=0.1,\n",
       "       verbose=False, warm_start=False),\n",
       "       fit_params={}, iid=True, n_jobs=1,\n",
       "       param_grid={'alpha': [0.001, 0.1, 10.0]}, pre_dispatch='2*n_jobs',\n",
       "       refit=True, return_train_score=True, scoring=None, verbose=0)"
      ]
     },
     "execution_count": 6,
     "metadata": {},
     "output_type": "execute_result"
    }
   ],
   "source": [
    "cv = StratifiedShuffleSplit(2, test_size=0.1, random_state=0)\n",
    "gs = GridSearchCV(clf, param_grid={'alpha':[1e-3, 1e-1, 1e1]})\n",
    "\n",
    "gs.fit(X, y)"
   ]
  },
  {
   "cell_type": "code",
   "execution_count": 7,
   "metadata": {},
   "outputs": [
    {
     "data": {
      "text/html": [
       "<div>\n",
       "<style>\n",
       "    .dataframe thead tr:only-child th {\n",
       "        text-align: right;\n",
       "    }\n",
       "\n",
       "    .dataframe thead th {\n",
       "        text-align: left;\n",
       "    }\n",
       "\n",
       "    .dataframe tbody tr th {\n",
       "        vertical-align: top;\n",
       "    }\n",
       "</style>\n",
       "<table border=\"1\" class=\"dataframe\">\n",
       "  <thead>\n",
       "    <tr style=\"text-align: right;\">\n",
       "      <th></th>\n",
       "      <th>mean_fit_time</th>\n",
       "      <th>mean_score_time</th>\n",
       "      <th>mean_test_score</th>\n",
       "      <th>mean_train_score</th>\n",
       "      <th>param_alpha</th>\n",
       "      <th>params</th>\n",
       "      <th>rank_test_score</th>\n",
       "      <th>split0_test_score</th>\n",
       "      <th>split0_train_score</th>\n",
       "      <th>split1_test_score</th>\n",
       "      <th>split1_train_score</th>\n",
       "      <th>split2_test_score</th>\n",
       "      <th>split2_train_score</th>\n",
       "      <th>std_fit_time</th>\n",
       "      <th>std_score_time</th>\n",
       "      <th>std_test_score</th>\n",
       "      <th>std_train_score</th>\n",
       "    </tr>\n",
       "  </thead>\n",
       "  <tbody>\n",
       "    <tr>\n",
       "      <th>0</th>\n",
       "      <td>0.703247</td>\n",
       "      <td>0.004109</td>\n",
       "      <td>0.8858</td>\n",
       "      <td>1.000000</td>\n",
       "      <td>0.001</td>\n",
       "      <td>{'alpha': 0.001}</td>\n",
       "      <td>3</td>\n",
       "      <td>0.873054</td>\n",
       "      <td>1.000000</td>\n",
       "      <td>0.891617</td>\n",
       "      <td>1.000000</td>\n",
       "      <td>0.892771</td>\n",
       "      <td>1.000000</td>\n",
       "      <td>0.041491</td>\n",
       "      <td>0.000272</td>\n",
       "      <td>0.009039</td>\n",
       "      <td>0.000000</td>\n",
       "    </tr>\n",
       "    <tr>\n",
       "      <th>1</th>\n",
       "      <td>1.312286</td>\n",
       "      <td>0.003915</td>\n",
       "      <td>0.9220</td>\n",
       "      <td>1.000000</td>\n",
       "      <td>0.1</td>\n",
       "      <td>{'alpha': 0.1}</td>\n",
       "      <td>1</td>\n",
       "      <td>0.917964</td>\n",
       "      <td>1.000000</td>\n",
       "      <td>0.926946</td>\n",
       "      <td>1.000000</td>\n",
       "      <td>0.921084</td>\n",
       "      <td>1.000000</td>\n",
       "      <td>0.161001</td>\n",
       "      <td>0.000595</td>\n",
       "      <td>0.003727</td>\n",
       "      <td>0.000000</td>\n",
       "    </tr>\n",
       "    <tr>\n",
       "      <th>2</th>\n",
       "      <td>2.070375</td>\n",
       "      <td>0.003880</td>\n",
       "      <td>0.9034</td>\n",
       "      <td>0.936002</td>\n",
       "      <td>10</td>\n",
       "      <td>{'alpha': 10.0}</td>\n",
       "      <td>2</td>\n",
       "      <td>0.889820</td>\n",
       "      <td>0.939339</td>\n",
       "      <td>0.912575</td>\n",
       "      <td>0.934234</td>\n",
       "      <td>0.907831</td>\n",
       "      <td>0.934431</td>\n",
       "      <td>0.146128</td>\n",
       "      <td>0.000090</td>\n",
       "      <td>0.009810</td>\n",
       "      <td>0.002362</td>\n",
       "    </tr>\n",
       "  </tbody>\n",
       "</table>\n",
       "</div>"
      ],
      "text/plain": [
       "   mean_fit_time  mean_score_time  mean_test_score  mean_train_score  \\\n",
       "0       0.703247         0.004109           0.8858          1.000000   \n",
       "1       1.312286         0.003915           0.9220          1.000000   \n",
       "2       2.070375         0.003880           0.9034          0.936002   \n",
       "\n",
       "  param_alpha            params  rank_test_score  split0_test_score  \\\n",
       "0       0.001  {'alpha': 0.001}                3           0.873054   \n",
       "1         0.1    {'alpha': 0.1}                1           0.917964   \n",
       "2          10   {'alpha': 10.0}                2           0.889820   \n",
       "\n",
       "   split0_train_score  split1_test_score  split1_train_score  \\\n",
       "0            1.000000           0.891617            1.000000   \n",
       "1            1.000000           0.926946            1.000000   \n",
       "2            0.939339           0.912575            0.934234   \n",
       "\n",
       "   split2_test_score  split2_train_score  std_fit_time  std_score_time  \\\n",
       "0           0.892771            1.000000      0.041491        0.000272   \n",
       "1           0.921084            1.000000      0.161001        0.000595   \n",
       "2           0.907831            0.934431      0.146128        0.000090   \n",
       "\n",
       "   std_test_score  std_train_score  \n",
       "0        0.009039         0.000000  \n",
       "1        0.003727         0.000000  \n",
       "2        0.009810         0.002362  "
      ]
     },
     "execution_count": 7,
     "metadata": {},
     "output_type": "execute_result"
    }
   ],
   "source": [
    "pd.DataFrame(gs.cv_results_)"
   ]
  },
  {
   "cell_type": "code",
   "execution_count": 8,
   "metadata": {
    "collapsed": true
   },
   "outputs": [],
   "source": [
    "clf_best = gs.best_estimator_"
   ]
  },
  {
   "cell_type": "code",
   "execution_count": 9,
   "metadata": {},
   "outputs": [
    {
     "data": {
      "text/plain": [
       "(25, 400)"
      ]
     },
     "execution_count": 9,
     "metadata": {},
     "output_type": "execute_result"
    }
   ],
   "source": [
    "Theta1 = clf_best.coefs_[0].T\n",
    "Theta1.shape"
   ]
  },
  {
   "cell_type": "code",
   "execution_count": 10,
   "metadata": {},
   "outputs": [
    {
     "data": {
      "text/plain": [
       "<matplotlib.figure.Figure at 0x10f662710>"
      ]
     },
     "metadata": {},
     "output_type": "display_data"
    },
    {
     "data": {
      "image/png": "[encoded data removed]",
      "text/plain": [
       "<matplotlib.figure.Figure at 0x10f662780>"
      ]
     },
     "metadata": {},
     "output_type": "display_data"
    }
   ],
   "source": [
    "# Visualize hidden units (i.e. their weights from the input layer)\n",
    "n_rows = 5\n",
    "n_cols = 5\n",
    "\n",
    "plt.subplots_adjust(top=.9, hspace=.4)\n",
    "plt.figure(figsize=(1.8 * n_cols, 2.4 * n_rows))\n",
    "\n",
    "for i, row in enumerate(Theta1):\n",
    "    plt.subplot(n_rows, n_cols, i + 1)\n",
    "    plt.imshow(row.reshape((20,20), order='F'), cmap=plt.cm.gray)\n",
    "    plt.title(f'hidden unit {i}')\n",
    "    plt.xticks(())\n",
    "    plt.yticks(())"
   ]
  },
  {
   "cell_type": "code",
   "execution_count": null,
   "metadata": {
    "collapsed": true
   },
   "outputs": [],
   "source": []
  }
 ],
 "metadata": {
  "kernelspec": {
   "display_name": "Python 3",
   "language": "python",
   "name": "python3"
  },
  "language_info": {
   "codemirror_mode": {
    "name": "ipython",
    "version": 3
   },
   "file_extension": ".py",
   "mimetype": "text/x-python",
   "name": "python",
   "nbconvert_exporter": "python",
   "pygments_lexer": "ipython3",
   "version": "3.6.0"
  }
 },
 "nbformat": 4,
 "nbformat_minor": 2
}
